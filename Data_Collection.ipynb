{
 "cells": [
  {
   "cell_type": "code",
   "execution_count": 1,
   "id": "f42996f5",
   "metadata": {},
   "outputs": [],
   "source": [
    "# IMPORTS\n",
    "\n",
    "from bs4 import BeautifulSoup\n",
    "import bs4\n",
    "import requests\n",
    "from selenium import webdriver\n",
    "\n",
    "import pandas as pd\n",
    "import numpy as np"
   ]
  },
  {
   "cell_type": "markdown",
   "id": "mighty-mystery",
   "metadata": {},
   "source": [
    "### Pdf scraping"
   ]
  },
  {
   "cell_type": "code",
   "execution_count": 13,
   "id": "8dd5cf58",
   "metadata": {},
   "outputs": [
    {
     "name": "stderr",
     "output_type": "stream",
     "text": [
      "C:\\cygwin64\\tmp\\ipykernel_15976\\3383127605.py:3: DeprecationWarning: executable_path has been deprecated, please pass in a Service object\n",
      "  driver = webdriver.Chrome(\"C:/chromedriver/chromedriver.exe\")\n"
     ]
    }
   ],
   "source": [
    "# USING SPACY FOR WEB SCRAPPING\n",
    "\n",
    "driver = webdriver.Chrome(\"C:/chromedriver/chromedriver.exe\")"
   ]
  },
  {
   "cell_type": "code",
   "execution_count": 14,
   "id": "f2476a95",
   "metadata": {},
   "outputs": [],
   "source": [
    "# LIST OF UNIQUE CATEGORIES THAT WAS NEEDED FOR THE DATASET.\n",
    "# ADD OR SUBTRACT LABELS AS NEEDED\n",
    "\n",
    "job_list = ['HR','Software Engineer', 'Data Scientist', 'Product Manager', 'Web Designer', 'Operations Manager', 'Network Security Engineer', 'Software Test Engineer', 'Java Developer', 'Business Analyst', 'DevOps Engineer']"
   ]
  },
  {
   "cell_type": "code",
   "execution_count": 15,
   "id": "2ec4c027",
   "metadata": {},
   "outputs": [],
   "source": [
    "# CREATING A DATAFRAME TO STORE THE LINKS OF EACH INDIVIDUAL RESUME EXAMPLE\n",
    "\n",
    "resume_links = pd.DataFrame()\n",
    "category = []\n",
    "link = []"
   ]
  },
  {
   "cell_type": "code",
   "execution_count": 16,
   "id": "d8074304",
   "metadata": {},
   "outputs": [
    {
     "name": "stderr",
     "output_type": "stream",
     "text": [
      "C:\\cygwin64\\tmp\\ipykernel_15976\\2431621910.py:12: DeprecationWarning: find_elements_by_css_selector is deprecated. Please use find_elements(by=By.CSS_SELECTOR, value=css_selector) instead\n",
      "  aTagsInLi = driver.find_elements_by_css_selector('li a')\n"
     ]
    }
   ],
   "source": [
    "# LOOP TO SEARCH FOR RESUME EXAMPLES FROM THE WEBPAGE AS PER THE LABELS DEFINED ABOVE. ONLY (10*12) 120 RESUMES WILL BE COLLECTED.\n",
    "\n",
    "# REMOVE  \"&bg=85&eg=100&comp=&mod=\"  TO EXPAND THE SEARCH \n",
    "# (bg=85 & eg=100) FILTERS THE RESUME BASED ON SCORE OF BETWEEEN 85 AND 100, INCREASE RANGE TO EXPAND SEARCH\n",
    "\n",
    "for job in job_list:\n",
    "    JOB = job.lower()\n",
    "    for i in range(1,13):   # INCREASE THE RANGE TO GET MORE RESUME DATA\n",
    "        PAGE = str(i)\n",
    "        URL = \"https://www.livecareer.com/resume-search/search?jt=\" + JOB + \"&bg=85&eg=100&comp=&mod=&pg=\" + PAGE\n",
    "        driver.get(URL)\n",
    "        aTagsInLi = driver.find_elements_by_css_selector('li a')\n",
    "        for a in aTagsInLi:\n",
    "            if a.get_attribute('rel') == \"ugc\":\n",
    "                category.append(JOB)\n",
    "                link.append(a.get_attribute('href'))\n",
    "    "
   ]
  },
  {
   "cell_type": "code",
   "execution_count": 6,
   "id": "79ccebe9",
   "metadata": {},
   "outputs": [],
   "source": [
    "# STORES THE CATEGORY AND LINK TO THE RESUME WEBPAGE\n",
    "\n",
    "resume_links[\"Category\"] = category\n",
    "resume_links[\"link\"] = link"
   ]
  },
  {
   "cell_type": "code",
   "execution_count": 7,
   "id": "458ca2f0",
   "metadata": {},
   "outputs": [],
   "source": [
    "# HASHES THE LINK AND CREATES AN UNIQUE ID FOR THE ROWS\n",
    "\n",
    "import hashlib\n",
    "def id(x):\n",
    "    return int(hashlib.md5(x.encode('utf-8')).hexdigest(), 16)\n",
    "\n",
    "resume_links[\"id\"] = resume_links[\"link\"].apply(id)"
   ]
  },
  {
   "cell_type": "code",
   "execution_count": 8,
   "id": "a7cf1106",
   "metadata": {},
   "outputs": [
    {
     "data": {
      "text/plain": [
       "hr                           132\n",
       "software engineer            132\n",
       "data scientist               132\n",
       "product manager              132\n",
       "web designer                 132\n",
       "operations manager           132\n",
       "network security engineer    132\n",
       "software test engineer       132\n",
       "java developer               132\n",
       "business analyst             132\n",
       "devops engineer              132\n",
       "Name: Category, dtype: int64"
      ]
     },
     "execution_count": 8,
     "metadata": {},
     "output_type": "execute_result"
    }
   ],
   "source": [
    "# NUMBER OF RESUME COLLECTED PER DEFINED LABELS\n",
    "df = resume_links\n",
    "df.Category.value_counts()"
   ]
  },
  {
   "cell_type": "code",
   "execution_count": 9,
   "id": "6c536f59",
   "metadata": {},
   "outputs": [],
   "source": [
    "df[\"Resume\"] = \"\"\n",
    "df[\"Raw_html\"] = \"\""
   ]
  },
  {
   "cell_type": "code",
   "execution_count": 10,
   "id": "8385e05c",
   "metadata": {},
   "outputs": [],
   "source": [
    "# LOOP TO COLLECT THE RESUME DATA PRESENT IN THE LINKS AS COLECTED ABOVE\n",
    "# STORED IN HTML AS WELL AS STRING FORMAT\n",
    "\n",
    "for i in range(df.shape[0]):\n",
    "    url = df.link[i]\n",
    "    driver.get(url)\n",
    "#     time.sleep(0.5)                  #ADDED DELAY, CAN BE REMOVED\n",
    "    x = driver.page_source\n",
    "    x = x.replace(\">\",\"> \")\n",
    "    soup = bs4.BeautifulSoup(x, 'html.parser')\n",
    "    div = soup.find(\"div\", {\"id\": \"document\"})\n",
    "    df.Raw_html[i] = div\n",
    "    try:\n",
    "        df.Resume[i] = div.text\n",
    "    except:\n",
    "#         ADD EXCEPTION IF REQUIRED\n",
    "        pass\n",
    "\n"
   ]
  },
  {
   "cell_type": "code",
   "execution_count": 11,
   "id": "5b0394ac",
   "metadata": {},
   "outputs": [
    {
     "data": {
      "text/html": [
       "<div>\n",
       "<style scoped>\n",
       "    .dataframe tbody tr th:only-of-type {\n",
       "        vertical-align: middle;\n",
       "    }\n",
       "\n",
       "    .dataframe tbody tr th {\n",
       "        vertical-align: top;\n",
       "    }\n",
       "\n",
       "    .dataframe thead th {\n",
       "        text-align: right;\n",
       "    }\n",
       "</style>\n",
       "<table border=\"1\" class=\"dataframe\">\n",
       "  <thead>\n",
       "    <tr style=\"text-align: right;\">\n",
       "      <th></th>\n",
       "      <th>Category</th>\n",
       "      <th>link</th>\n",
       "      <th>id</th>\n",
       "      <th>Resume</th>\n",
       "      <th>Raw_html</th>\n",
       "    </tr>\n",
       "  </thead>\n",
       "  <tbody>\n",
       "    <tr>\n",
       "      <th>0</th>\n",
       "      <td>hr</td>\n",
       "      <td>https://www.livecareer.com/resume-search/</td>\n",
       "      <td>20833638260276278065918687170912323191</td>\n",
       "      <td></td>\n",
       "      <td>None</td>\n",
       "    </tr>\n",
       "    <tr>\n",
       "      <th>1</th>\n",
       "      <td>hr</td>\n",
       "      <td>https://www.livecareer.com/resume-search/r/tea...</td>\n",
       "      <td>10657153467684033635618204014550017025</td>\n",
       "      <td>TEACHER, 5TH AND 6TH GRADE SCIENCE/LI...</td>\n",
       "      <td>[ , [ , [ , &lt;div class=\"name\" itemprop=\"name\"&gt;...</td>\n",
       "    </tr>\n",
       "    <tr>\n",
       "      <th>2</th>\n",
       "      <td>hr</td>\n",
       "      <td>https://www.livecareer.com/resume-search/r/hr-...</td>\n",
       "      <td>303012948694581463097341274704713518393</td>\n",
       "      <td>HR MANAGER         Summary     Human ...</td>\n",
       "      <td>[ , [ , [ , &lt;div class=\"name thinbottomborder\"...</td>\n",
       "    </tr>\n",
       "    <tr>\n",
       "      <th>3</th>\n",
       "      <td>hr</td>\n",
       "      <td>https://www.livecareer.com/resume-search/r/hr-...</td>\n",
       "      <td>252695628279126685659264046008231934877</td>\n",
       "      <td>HR/PAYROLL COORDINATOR         Profes...</td>\n",
       "      <td>[ , [ , [ , &lt;div class=\"name\" itemprop=\"name\"&gt;...</td>\n",
       "    </tr>\n",
       "    <tr>\n",
       "      <th>4</th>\n",
       "      <td>hr</td>\n",
       "      <td>https://www.livecareer.com/resume-search/r/hr-...</td>\n",
       "      <td>162057789781141134402378787192982207371</td>\n",
       "      <td>HR MANAGER         Skill Highlights  ...</td>\n",
       "      <td>[ , [ , [ , &lt;div class=\"name\" itemprop=\"name\"&gt;...</td>\n",
       "    </tr>\n",
       "  </tbody>\n",
       "</table>\n",
       "</div>"
      ],
      "text/plain": [
       "  Category                                               link  \\\n",
       "0       hr          https://www.livecareer.com/resume-search/   \n",
       "1       hr  https://www.livecareer.com/resume-search/r/tea...   \n",
       "2       hr  https://www.livecareer.com/resume-search/r/hr-...   \n",
       "3       hr  https://www.livecareer.com/resume-search/r/hr-...   \n",
       "4       hr  https://www.livecareer.com/resume-search/r/hr-...   \n",
       "\n",
       "                                        id  \\\n",
       "0   20833638260276278065918687170912323191   \n",
       "1   10657153467684033635618204014550017025   \n",
       "2  303012948694581463097341274704713518393   \n",
       "3  252695628279126685659264046008231934877   \n",
       "4  162057789781141134402378787192982207371   \n",
       "\n",
       "                                              Resume  \\\n",
       "0                                                      \n",
       "1           TEACHER, 5TH AND 6TH GRADE SCIENCE/LI...   \n",
       "2           HR MANAGER         Summary     Human ...   \n",
       "3           HR/PAYROLL COORDINATOR         Profes...   \n",
       "4           HR MANAGER         Skill Highlights  ...   \n",
       "\n",
       "                                            Raw_html  \n",
       "0                                               None  \n",
       "1  [ , [ , [ , <div class=\"name\" itemprop=\"name\">...  \n",
       "2  [ , [ , [ , <div class=\"name thinbottomborder\"...  \n",
       "3  [ , [ , [ , <div class=\"name\" itemprop=\"name\">...  \n",
       "4  [ , [ , [ , <div class=\"name\" itemprop=\"name\">...  "
      ]
     },
     "execution_count": 11,
     "metadata": {},
     "output_type": "execute_result"
    }
   ],
   "source": [
    "df.head()"
   ]
  },
  {
   "cell_type": "code",
   "execution_count": 12,
   "id": "3bedc707",
   "metadata": {},
   "outputs": [],
   "source": [
    "# STORES THE DATAFRAME\n",
    "\n",
    "df.to_csv(\"Resume.csv\",index=False)"
   ]
  },
  {
   "cell_type": "code",
   "execution_count": null,
   "id": "magnetic-boost",
   "metadata": {},
   "outputs": [],
   "source": []
  }
 ],
 "metadata": {
  "kernelspec": {
   "display_name": "Python 3 (ipykernel)",
   "language": "python",
   "name": "python3"
  },
  "language_info": {
   "codemirror_mode": {
    "name": "ipython",
    "version": 3
   },
   "file_extension": ".py",
   "mimetype": "text/x-python",
   "name": "python",
   "nbconvert_exporter": "python",
   "pygments_lexer": "ipython3",
   "version": "3.8.10"
  }
 },
 "nbformat": 4,
 "nbformat_minor": 5
}
