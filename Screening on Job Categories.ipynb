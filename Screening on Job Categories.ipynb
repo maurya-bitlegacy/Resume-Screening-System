{
 "cells": [
  {
   "cell_type": "code",
   "execution_count": 1,
   "id": "still-powder",
   "metadata": {},
   "outputs": [
    {
     "name": "stderr",
     "output_type": "stream",
     "text": [
      "[nltk_data] Downloading package stopwords to\n",
      "[nltk_data]     C:\\Users\\test\\AppData\\Roaming\\nltk_data...\n",
      "[nltk_data]   Package stopwords is already up-to-date!\n",
      "[nltk_data] Downloading package wordnet to\n",
      "[nltk_data]     C:\\Users\\test\\AppData\\Roaming\\nltk_data...\n",
      "[nltk_data]   Package wordnet is already up-to-date!\n"
     ]
    }
   ],
   "source": [
    "#spacy\n",
    "import spacy\n",
    "from spacy.pipeline import EntityRuler\n",
    "from spacy.lang.en import English\n",
    "from spacy.tokens import Doc\n",
    "\n",
    "#gensim\n",
    "import gensim\n",
    "from gensim import corpora\n",
    "\n",
    "#Visualization\n",
    "from spacy import displacy\n",
    "import pyLDAvis.gensim_models\n",
    "from wordcloud import WordCloud\n",
    "import plotly.express as px\n",
    "import matplotlib.pyplot as plt\n",
    "\n",
    "#Data loading/ Data manipulation\n",
    "import pandas as pd\n",
    "import numpy as np\n",
    "import jsonlines\n",
    "\n",
    "#nltk\n",
    "import re\n",
    "import nltk\n",
    "from nltk.corpus import stopwords\n",
    "from nltk.stem import WordNetLemmatizer\n",
    "nltk.download(['stopwords','wordnet'])\n",
    "\n",
    "#warning\n",
    "import warnings \n",
    "warnings.filterwarnings('ignore')\n",
    "import os\n",
    "import json\n",
    "from pdfminer.high_level import extract_text\n",
    "import collections"
   ]
  },
  {
   "cell_type": "code",
   "execution_count": 2,
   "id": "prepared-testing",
   "metadata": {},
   "outputs": [],
   "source": [
    "nlp = spacy.load('new_pipeline')"
   ]
  },
  {
   "cell_type": "code",
   "execution_count": 3,
   "id": "prerequisite-watch",
   "metadata": {},
   "outputs": [],
   "source": [
    "with open('job_skill_dict.json') as json_file:\n",
    "    job_skill_dict = json.load(json_file)"
   ]
  },
  {
   "cell_type": "code",
   "execution_count": 4,
   "id": "reasonable-heading",
   "metadata": {},
   "outputs": [],
   "source": [
    "job_list = ['HR',\n",
    " 'SOFTWARE ENGINEER',\n",
    " 'DATA SCIENTIST',\n",
    " 'PRODUCT MANAGER',\n",
    " 'WEB DESIGNER',\n",
    " 'OPERATIONS MANAGER',\n",
    " 'NETWORK SECURITY ENGINEER',\n",
    " 'SOFTWARE TEST ENGINEER',\n",
    " 'JAVA DEVELOPER',\n",
    " 'BUSINESS ANALYST',\n",
    " 'DEVOPS ENGINEER']"
   ]
  },
  {
   "cell_type": "code",
   "execution_count": 5,
   "id": "sixth-feedback",
   "metadata": {},
   "outputs": [],
   "source": [
    "def get_skills(text):\n",
    "    doc = nlp(text)\n",
    "    myset = []\n",
    "    subset = []\n",
    "    for ent in doc.ents:\n",
    "        if ent.label_ == \"SKILL\":\n",
    "            subset.append(ent.text)\n",
    "    myset.append(subset)\n",
    "    return subset\n",
    "\n",
    "def unique_skills(x):\n",
    "    return list(set(x))"
   ]
  },
  {
   "cell_type": "code",
   "execution_count": 6,
   "id": "induced-guatemala",
   "metadata": {},
   "outputs": [],
   "source": [
    "olddir = os.getcwd()"
   ]
  },
  {
   "cell_type": "code",
   "execution_count": 7,
   "id": "beneficial-demographic",
   "metadata": {},
   "outputs": [],
   "source": [
    "os.chdir('Resumes/Test')"
   ]
  },
  {
   "cell_type": "code",
   "execution_count": null,
   "id": "atomic-future",
   "metadata": {},
   "outputs": [],
   "source": [
    "For each cat in job category:\n",
    "    required_skills = top_skills\n",
    "    for each resume in this job_category:\n",
    "        find the score of each resume, save it in a list\n",
    "    [list of scores of all applicants of this job_category]\n",
    "    print top 5 applicants"
   ]
  },
  {
   "cell_type": "code",
   "execution_count": 8,
   "id": "permanent-timer",
   "metadata": {},
   "outputs": [],
   "source": [
    "def top5(cv_scores, job_cat):\n",
    "    top = sorted(cv_scores, key=cv_scores.get, reverse=True)[:5]\n",
    "    print('The top applicants for role '+job_cat+\" are:\")\n",
    "    for candidate in top:\n",
    "        print(candidate.split('.')[0])"
   ]
  },
  {
   "cell_type": "code",
   "execution_count": 9,
   "id": "protecting-consolidation",
   "metadata": {},
   "outputs": [
    {
     "data": {
      "text/plain": [
       "'C:\\\\Users\\\\test\\\\Desktop\\\\Resumes\\\\Test'"
      ]
     },
     "execution_count": 9,
     "metadata": {},
     "output_type": "execute_result"
    }
   ],
   "source": [
    "os.getcwd()"
   ]
  },
  {
   "cell_type": "code",
   "execution_count": 10,
   "id": "framed-attack",
   "metadata": {},
   "outputs": [
    {
     "name": "stdout",
     "output_type": "stream",
     "text": [
      "The top applicants for role HR are:\n",
      "15515655\n",
      "16140948\n",
      "18731098\n",
      "24388338\n",
      "19867922\n",
      "The top applicants for role SOFTWARE ENGINEER are:\n",
      "20852535\n",
      "34919484\n",
      "12096193\n",
      "12444594\n",
      "36050027\n",
      "The top applicants for role DATA SCIENTIST are:\n",
      "28660504\n",
      "13396329\n",
      "13608034\n",
      "55576765\n",
      "18413315\n",
      "The top applicants for role PRODUCT MANAGER are:\n",
      "42285362\n",
      "10747120\n",
      "37045545\n",
      "10659796\n",
      "27712294\n",
      "The top applicants for role WEB DESIGNER are:\n",
      "15352186\n",
      "16476230\n",
      "18252095\n",
      "26050138\n",
      "13850350\n",
      "The top applicants for role OPERATIONS MANAGER are:\n",
      "23904607\n",
      "27324504\n",
      "12846507\n",
      "18766397\n",
      "27664162\n",
      "The top applicants for role NETWORK SECURITY ENGINEER are:\n",
      "81673766\n",
      "13938097\n",
      "15967918\n",
      "26694828\n",
      "17143817\n",
      "The top applicants for role SOFTWARE TEST ENGINEER are:\n",
      "15176672\n",
      "18150452\n",
      "26271329\n",
      "22660896\n",
      "23954450\n",
      "The top applicants for role JAVA DEVELOPER are:\n",
      "20523981\n",
      "26162649\n",
      "27731155\n",
      "70094883\n",
      "18830556\n",
      "The top applicants for role BUSINESS ANALYST are:\n",
      "10415253\n",
      "81945226\n",
      "10373898\n",
      "95681988\n",
      "12558411\n",
      "The top applicants for role DEVOPS ENGINEER are:\n",
      "22452302\n",
      "28637705\n",
      "33282792\n",
      "13739162\n",
      "17182618\n"
     ]
    }
   ],
   "source": [
    "for job_cat in job_list:\n",
    "    cv_scores = {}\n",
    "    os.chdir(job_cat)\n",
    "    req_skills = \",\".join(job_skill_dict[job_cat]).lower().split(\",\") # Top skills\n",
    "    for filename in os.listdir(os.getcwd()): # Iterate through all resumes\n",
    "        resume = filename\n",
    "        resume_text = extract_text(resume, codec = 'utf8')\n",
    "        resume_text = re.sub(r'[^a-zA-Z0-9@,.\\']+',' ',resume_text)\n",
    "        resume_skills = unique_skills(get_skills(resume_text.lower())) # Skills present in the current resume\n",
    "        score = 0\n",
    "        for x in req_skills:\n",
    "            if x in resume_skills:\n",
    "                score += 1\n",
    "        req_skills_len = len(req_skills)\n",
    "        match = round(score / req_skills_len * 100, 1)\n",
    "        cv_scores[filename] = match\n",
    "    \n",
    "    top5(cv_scores, job_cat)\n",
    "    os.chdir('../')"
   ]
  },
  {
   "cell_type": "code",
   "execution_count": 11,
   "id": "removed-exposure",
   "metadata": {},
   "outputs": [],
   "source": [
    "os.chdir(olddir)"
   ]
  }
 ],
 "metadata": {
  "kernelspec": {
   "display_name": "Python 3 (ipykernel)",
   "language": "python",
   "name": "python3"
  },
  "language_info": {
   "codemirror_mode": {
    "name": "ipython",
    "version": 3
   },
   "file_extension": ".py",
   "mimetype": "text/x-python",
   "name": "python",
   "nbconvert_exporter": "python",
   "pygments_lexer": "ipython3",
   "version": "3.8.10"
  }
 },
 "nbformat": 4,
 "nbformat_minor": 5
}
