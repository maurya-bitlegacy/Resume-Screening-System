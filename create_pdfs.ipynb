{
 "cells": [
  {
   "cell_type": "code",
   "execution_count": 1,
   "id": "fd1eb7dd",
   "metadata": {},
   "outputs": [],
   "source": [
    "# INSTALLING LIBRARY \n",
    "\n",
    "#!pip3 install pdfkit"
   ]
  },
  {
   "cell_type": "code",
   "execution_count": 2,
   "id": "08e9f4f4",
   "metadata": {},
   "outputs": [],
   "source": [
    "# IMPORTS\n",
    "\n",
    "import pandas as pd\n",
    "import pdfkit \n",
    "import os"
   ]
  },
  {
   "cell_type": "code",
   "execution_count": 3,
   "id": "1c20b6cf",
   "metadata": {},
   "outputs": [],
   "source": [
    "# READING THE CSV PRODUCED WHILE DATA COLLECTION\n",
    "\n",
    "df = pd.read_csv(\"Resume.csv\")\n",
    "df = df.drop(['link'], axis=1)"
   ]
  },
  {
   "cell_type": "code",
   "execution_count": 4,
   "id": "cfeec235",
   "metadata": {},
   "outputs": [
    {
     "data": {
      "text/plain": [
       "Category    0\n",
       "id          0\n",
       "Resume      0\n",
       "Raw_html    0\n",
       "dtype: int64"
      ]
     },
     "execution_count": 4,
     "metadata": {},
     "output_type": "execute_result"
    }
   ],
   "source": [
    "df.dropna(inplace=True)\n",
    "df.isnull().sum()"
   ]
  },
  {
   "cell_type": "code",
   "execution_count": 5,
   "id": "fd17259d",
   "metadata": {},
   "outputs": [],
   "source": [
    "# SHORTENS THE ID\n",
    "\n",
    "df.id = [x[::5] for x in df.id]"
   ]
  },
  {
   "cell_type": "code",
   "execution_count": 6,
   "id": "35a449f1",
   "metadata": {},
   "outputs": [],
   "source": [
    "# RENAMES AND ARRANGES THE COLUMN NAMES\n",
    "\n",
    "df = df[['id', 'Resume', 'Raw_html', 'Category']]\n",
    "df.columns = ['ID', 'Resume_str', 'Resume_html', 'Category']\n",
    "df.Category  = [x.upper() for x in df.Category]"
   ]
  },
  {
   "cell_type": "code",
   "execution_count": 7,
   "id": "043736b9",
   "metadata": {},
   "outputs": [
    {
     "data": {
      "text/html": [
       "<div>\n",
       "<style scoped>\n",
       "    .dataframe tbody tr th:only-of-type {\n",
       "        vertical-align: middle;\n",
       "    }\n",
       "\n",
       "    .dataframe tbody tr th {\n",
       "        vertical-align: top;\n",
       "    }\n",
       "\n",
       "    .dataframe thead th {\n",
       "        text-align: right;\n",
       "    }\n",
       "</style>\n",
       "<table border=\"1\" class=\"dataframe\">\n",
       "  <thead>\n",
       "    <tr style=\"text-align: right;\">\n",
       "      <th></th>\n",
       "      <th>ID</th>\n",
       "      <th>Resume_str</th>\n",
       "      <th>Resume_html</th>\n",
       "      <th>Category</th>\n",
       "    </tr>\n",
       "  </thead>\n",
       "  <tbody>\n",
       "    <tr>\n",
       "      <th>1</th>\n",
       "      <td>11736450</td>\n",
       "      <td>TEACHER, 5TH AND 6TH GRADE SCIENCE/LI...</td>\n",
       "      <td>&lt;div class=\"fontsize fontface vmargins hmargin...</td>\n",
       "      <td>HR</td>\n",
       "    </tr>\n",
       "    <tr>\n",
       "      <th>2</th>\n",
       "      <td>32947778</td>\n",
       "      <td>HR MANAGER         Summary     Human ...</td>\n",
       "      <td>&lt;div class=\"fontsize fontface vmargins hmargin...</td>\n",
       "      <td>HR</td>\n",
       "    </tr>\n",
       "    <tr>\n",
       "      <th>3</th>\n",
       "      <td>25769424</td>\n",
       "      <td>HR/PAYROLL COORDINATOR         Profes...</td>\n",
       "      <td>&lt;div class=\"fontsize fontface vmargins hmargin...</td>\n",
       "      <td>HR</td>\n",
       "    </tr>\n",
       "    <tr>\n",
       "      <th>4</th>\n",
       "      <td>17812897</td>\n",
       "      <td>HR MANAGER         Skill Highlights  ...</td>\n",
       "      <td>&lt;div class=\"fontsize fontface vmargins hmargin...</td>\n",
       "      <td>HR</td>\n",
       "    </tr>\n",
       "    <tr>\n",
       "      <th>5</th>\n",
       "      <td>46258701</td>\n",
       "      <td>HR COORDINATOR       Professional Sum...</td>\n",
       "      <td>&lt;div class=\"fontsize fontface vmargins hmargin...</td>\n",
       "      <td>HR</td>\n",
       "    </tr>\n",
       "  </tbody>\n",
       "</table>\n",
       "</div>"
      ],
      "text/plain": [
       "         ID                                         Resume_str  \\\n",
       "1  11736450           TEACHER, 5TH AND 6TH GRADE SCIENCE/LI...   \n",
       "2  32947778           HR MANAGER         Summary     Human ...   \n",
       "3  25769424           HR/PAYROLL COORDINATOR         Profes...   \n",
       "4  17812897           HR MANAGER         Skill Highlights  ...   \n",
       "5  46258701           HR COORDINATOR       Professional Sum...   \n",
       "\n",
       "                                         Resume_html Category  \n",
       "1  <div class=\"fontsize fontface vmargins hmargin...       HR  \n",
       "2  <div class=\"fontsize fontface vmargins hmargin...       HR  \n",
       "3  <div class=\"fontsize fontface vmargins hmargin...       HR  \n",
       "4  <div class=\"fontsize fontface vmargins hmargin...       HR  \n",
       "5  <div class=\"fontsize fontface vmargins hmargin...       HR  "
      ]
     },
     "execution_count": 7,
     "metadata": {},
     "output_type": "execute_result"
    }
   ],
   "source": [
    "df.head()"
   ]
  },
  {
   "cell_type": "code",
   "execution_count": 11,
   "id": "9e42a536",
   "metadata": {},
   "outputs": [],
   "source": [
    "labels = df.Category.unique()"
   ]
  },
  {
   "cell_type": "code",
   "execution_count": 12,
   "id": "cd9493ba",
   "metadata": {},
   "outputs": [
    {
     "data": {
      "text/plain": [
       "PRODUCT MANAGER              120\n",
       "WEB DESIGNER                 120\n",
       "BUSINESS ANALYST             120\n",
       "SOFTWARE ENGINEER            119\n",
       "DATA SCIENTIST               119\n",
       "OPERATIONS MANAGER           119\n",
       "JAVA DEVELOPER               119\n",
       "HR                           118\n",
       "SOFTWARE TEST ENGINEER       118\n",
       "NETWORK SECURITY ENGINEER    117\n",
       "DEVOPS ENGINEER              114\n",
       "Name: Category, dtype: int64"
      ]
     },
     "execution_count": 12,
     "metadata": {},
     "output_type": "execute_result"
    }
   ],
   "source": [
    "df.Category.value_counts()"
   ]
  },
  {
   "cell_type": "markdown",
   "id": "driven-cocktail",
   "metadata": {},
   "source": [
    "## Split into train and test sets"
   ]
  },
  {
   "cell_type": "code",
   "execution_count": 8,
   "id": "diagnostic-guard",
   "metadata": {},
   "outputs": [],
   "source": [
    "from sklearn.model_selection import train_test_split"
   ]
  },
  {
   "cell_type": "code",
   "execution_count": 9,
   "id": "differential-hazard",
   "metadata": {},
   "outputs": [],
   "source": [
    "train, test = train_test_split(df, test_size=0.2, random_state=42)"
   ]
  },
  {
   "cell_type": "code",
   "execution_count": 10,
   "id": "31fd0669",
   "metadata": {},
   "outputs": [],
   "source": [
    "# OVERWRITE THE CHANGES TO CSV\n",
    "\n",
    "#df.to_csv(\"Resume1.csv\", index=False)\n",
    "train.to_csv(\"Train_data.csv\", index = False)\n",
    "test.to_csv(\"Test_data.csv\", index = False)"
   ]
  },
  {
   "cell_type": "markdown",
   "id": "military-heading",
   "metadata": {},
   "source": [
    "## Saving pdfs for train data"
   ]
  },
  {
   "cell_type": "code",
   "execution_count": 13,
   "id": "constitutional-uruguay",
   "metadata": {},
   "outputs": [],
   "source": [
    "path_wkhtmltopdf = r'C:\\Program Files\\wkhtmltopdf\\bin\\wkhtmltopdf.exe'\n",
    "config = pdfkit.configuration(wkhtmltopdf=path_wkhtmltopdf)"
   ]
  },
  {
   "cell_type": "code",
   "execution_count": 38,
   "id": "effective-battle",
   "metadata": {},
   "outputs": [],
   "source": [
    "#SET A DIRECTORY TO SAVE THE RESUME PDFS\n",
    "os.chdir('Resumes/Train')"
   ]
  },
  {
   "cell_type": "code",
   "execution_count": 39,
   "id": "071d2b02",
   "metadata": {},
   "outputs": [],
   "source": [
    "# LOOPS OVER THE DATAFRAME AND MAKES AND SAVES THE PDF IN A SUITEABLE MANNER WITH ID AS THE FILENAME\n",
    "\n",
    "for label in labels:\n",
    "    temp = train[train.Category == label]\n",
    "    temp.dropna(inplace=True)\n",
    "    temp.reset_index(inplace=True, drop=True)\n",
    "    path = os.path.join(\"\", label)\n",
    "    mode = 0o666\n",
    "    os.mkdir(path, mode)\n",
    "    os.chdir(path)\n",
    "    for i in range(temp.shape[0]):\n",
    "        pdfkit.from_string(temp.Resume_html[i], temp.ID[i]+\".pdf\", configuration = config) \n",
    "    os.chdir(\"../\")\n",
    "        "
   ]
  },
  {
   "cell_type": "markdown",
   "id": "coated-medicaid",
   "metadata": {},
   "source": [
    "## Saving pdfs for test data"
   ]
  },
  {
   "cell_type": "code",
   "execution_count": 41,
   "id": "yellow-europe",
   "metadata": {},
   "outputs": [],
   "source": [
    "os.chdir(\"../\")"
   ]
  },
  {
   "cell_type": "code",
   "execution_count": 42,
   "id": "suited-austria",
   "metadata": {},
   "outputs": [],
   "source": [
    "os.chdir(\"Test\")"
   ]
  },
  {
   "cell_type": "code",
   "execution_count": 44,
   "id": "ceramic-squad",
   "metadata": {},
   "outputs": [],
   "source": [
    "# LOOPS OVER THE DATAFRAME AND MAKES AND SAVES THE PDF IN A SUITEABLE MANNER WITH ID AS THE FILENAME\n",
    "\n",
    "for label in labels:\n",
    "    temp = test[test.Category == label]\n",
    "    temp.dropna(inplace=True)\n",
    "    temp.reset_index(inplace=True, drop=True)\n",
    "    path = os.path.join(\"\", label)\n",
    "    mode = 0o666\n",
    "    os.mkdir(path, mode)\n",
    "    os.chdir(path)\n",
    "    for i in range(temp.shape[0]):\n",
    "        pdfkit.from_string(temp.Resume_html[i], temp.ID[i]+\".pdf\", configuration = config) \n",
    "    os.chdir(\"../\")"
   ]
  },
  {
   "cell_type": "code",
   "execution_count": null,
   "id": "serious-keyboard",
   "metadata": {},
   "outputs": [],
   "source": []
  }
 ],
 "metadata": {
  "kernelspec": {
   "display_name": "Python 3 (ipykernel)",
   "language": "python",
   "name": "python3"
  },
  "language_info": {
   "codemirror_mode": {
    "name": "ipython",
    "version": 3
   },
   "file_extension": ".py",
   "mimetype": "text/x-python",
   "name": "python",
   "nbconvert_exporter": "python",
   "pygments_lexer": "ipython3",
   "version": "3.8.10"
  }
 },
 "nbformat": 4,
 "nbformat_minor": 5
}
